{
 "cells": [
  {
   "cell_type": "markdown",
   "metadata": {},
   "source": [
    "# <u>Hello World</u>"
   ]
  },
  {
   "cell_type": "markdown",
   "metadata": {},
   "source": [
    "**Machine Learning** is a subfield of <u>artificial intelligence</u>."
   ]
  },
  {
   "cell_type": "markdown",
   "metadata": {},
   "source": [
    "It is the __study of algorithms__ that can <u>learn from examples and experience __instead of relying on hard-coded rules__</u>."
   ]
  },
  {
   "cell_type": "markdown",
   "metadata": {},
   "source": [
    "> These algorithms figure out the rules for us, so we don't write them by hand."
   ]
  },
  {
   "cell_type": "markdown",
   "metadata": {},
   "source": [
    "## Supervised Learning\n",
    "\n",
    "Create a <u>classifier</u> by finding patterns in examples by following standards steps:\n",
    "1. collect training data\n",
    "2. train classifier\n",
    "3. make predictions\n",
    "\n",
    "Supervised algorithms have to take the <u>characteristics</u> / <u>metadatas</u> of our datas.\n",
    "\n",
    "In Machine Learning <u>these measurements</u> are called __features__.\n",
    "\n",
    "A good feature makes it <u>easy to discriminate</u>.\n",
    "\n",
    "### Classifier\n",
    "\n",
    "It takes some data as input and assigns a label to it as output.\n",
    "\n",
    "__Examples:__ \n",
    "- a picture as input &rarr; classify it as cat or not cat.\n",
    "- an email as input &rarr; classify it as spam or not spam.\n",
    "\n",
    "#### 1. Collect training datas"
   ]
  },
  {
   "cell_type": "code",
   "execution_count": 5,
   "metadata": {},
   "outputs": [],
   "source": [
    "from sklearn import tree\n",
    "\n",
    "\n",
    "features = [[140, \"smooth\"], [130, \"smooth\"], [150, \"bumpy\"],[170, \"bumpy\"]]\n",
    "labels = [\"apple\", \"apple\", \"orange\", \"orange\"]\n"
   ]
  },
  {
   "cell_type": "markdown",
   "metadata": {},
   "source": [
    "To keep things simple, we'll think of a classifier as a box of rules.\n",
    "\n",
    "In `sklearn`, `.fit(features, labels)` for *find patterns in data* is the <u>classifier object</u>.\n",
    "\n",
    "#### 2. Train classifier"
   ]
  },
  {
   "cell_type": "code",
   "execution_count": 6,
   "metadata": {},
   "outputs": [],
   "source": [
    "features = [[140, 1], [130, 1], [150, 0],[170, 0]]\n",
    "labels = [0, 0, 1, 1]\n",
    "\n",
    "clf = tree.DecisionTreeClassifier() \n",
    "clf = clf.fit(features, labels)"
   ]
  },
  {
   "cell_type": "markdown",
   "metadata": {},
   "source": [
    "#### 3. Make predictions"
   ]
  },
  {
   "cell_type": "code",
   "execution_count": 7,
   "metadata": {},
   "outputs": [
    {
     "name": "stdout",
     "output_type": "stream",
     "text": [
      "[1]\n"
     ]
    }
   ],
   "source": [
    "print clf.predict([[150, 0]]) # 1 for orange, 0 for apple"
   ]
  },
  {
   "cell_type": "markdown",
   "metadata": {},
   "source": [
    "We can create a new classifier for a new problem just by changing the training data.\n",
    "\n",
    "That makes <u>__this approach far more reusable__</u> than *writing new rules for each problem*.\n",
    "\n",
    "## Conclusion\n",
    "\n",
    "The neat thing is that programming with Machine Learning isn't hard.\n",
    "\n",
    "But to get it right, you need to understand a few important concepts like :\n",
    "\n",
    "- *how much training data do you need ?*\n",
    "- *how is the tree created ?*\n",
    "- *What makes a good feature ?*\n",
    "\n",
    "... and so on."
   ]
  }
 ],
 "metadata": {
  "kernelspec": {
   "display_name": "Python 2",
   "language": "python",
   "name": "python2"
  },
  "language_info": {
   "codemirror_mode": {
    "name": "ipython",
    "version": 2
   },
   "file_extension": ".py",
   "mimetype": "text/x-python",
   "name": "python",
   "nbconvert_exporter": "python",
   "pygments_lexer": "ipython2",
   "version": "2.7.15"
  }
 },
 "nbformat": 4,
 "nbformat_minor": 2
}
